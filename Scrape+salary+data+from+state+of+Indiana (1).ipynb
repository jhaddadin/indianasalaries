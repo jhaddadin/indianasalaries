{
 "cells": [
  {
   "cell_type": "code",
   "execution_count": 1,
   "metadata": {
    "collapsed": true
   },
   "outputs": [],
   "source": [
    "from selenium import webdriver\n",
    "from selenium.webdriver.common.keys import Keys\n",
    "from selenium.webdriver.support.ui import Select\n",
    "from bs4 import BeautifulSoup\n",
    "import time\n",
    "import pandas as pd"
   ]
  },
  {
   "cell_type": "code",
   "execution_count": 2,
   "metadata": {
    "collapsed": true
   },
   "outputs": [],
   "source": [
    "# Create an empty dataframe to hold the salary data"
   ]
  },
  {
   "cell_type": "code",
   "execution_count": 3,
   "metadata": {
    "collapsed": true
   },
   "outputs": [],
   "source": [
    "salary_df = pd.DataFrame()"
   ]
  },
  {
   "cell_type": "code",
   "execution_count": 4,
   "metadata": {
    "collapsed": true
   },
   "outputs": [],
   "source": [
    "# Open a web browser with Selenium and browser to the state salary website"
   ]
  },
  {
   "cell_type": "code",
   "execution_count": 5,
   "metadata": {},
   "outputs": [],
   "source": [
    "driver = webdriver.Chrome()\n",
    "driver.get(\"http://www.in.gov/apps/gov/salaries/search\")\n",
    "time.sleep(5)"
   ]
  },
  {
   "cell_type": "code",
   "execution_count": 6,
   "metadata": {
    "collapsed": true
   },
   "outputs": [],
   "source": [
    "# Choose an agency from the dropdown list and search"
   ]
  },
  {
   "cell_type": "code",
   "execution_count": 7,
   "metadata": {},
   "outputs": [],
   "source": [
    "agency = Select(driver.find_element_by_name('agency'))\n",
    "agency.select_by_visible_text(\"INSURANCE\") # Change this value to the agency for which you're retrieving salary data "
   ]
  },
  {
   "cell_type": "code",
   "execution_count": 8,
   "metadata": {},
   "outputs": [],
   "source": [
    "search = driver.find_element_by_xpath('//*[@id=\"searchTable\"]/tbody/tr[4]/td[2]/input')\n",
    "search.click()\n",
    "time.sleep(5)"
   ]
  },
  {
   "cell_type": "code",
   "execution_count": 9,
   "metadata": {
    "collapsed": true
   },
   "outputs": [],
   "source": [
    "# Parse the HTML with BeautifulSoup and append values to the dataframe"
   ]
  },
  {
   "cell_type": "code",
   "execution_count": 10,
   "metadata": {},
   "outputs": [
    {
     "name": "stdout",
     "output_type": "stream",
     "text": [
      "Wrote data to salaries.csv\n"
     ]
    }
   ],
   "source": [
    "while True:\n",
    "    try:\n",
    "        html_source = driver.page_source\n",
    "        salaryinfo = BeautifulSoup(html_source, 'lxml')\n",
    "        salary_table = salaryinfo.findAll(\"table\")\n",
    "        salary_rows = salary_table[1].findAll(lambda tag: tag.name=='tr')\n",
    "        salary_rows.pop(0)\n",
    "\n",
    "        for i in salary_rows:\n",
    "            employee = i.findAll('td')\n",
    "            firstname = employee[0].text\n",
    "            lastname = employee[1].text\n",
    "            agency = employee[2].text\n",
    "            status = employee[3].text\n",
    "            salary = employee[4].text\n",
    "\n",
    "            salary_df = salary_df.append({'FirstName': firstname,\n",
    "                                            'LastName': lastname,\n",
    "                                            'Agency': agency,\n",
    "                                            'Status': status,\n",
    "                                            'Salary': salary}, ignore_index=True)\n",
    "        nextlist = driver.find_element_by_class_name('nextLink')\n",
    "        nextlist.click()\n",
    "        time.sleep(5)\n",
    "    except Exception as e:\n",
    "        if \"Unable to locate element\" in str(e):\n",
    "            salary_df.to_csv('salaries.csv', index=False)\n",
    "            print(\"Wrote data to salaries.csv\")\n",
    "        else:\n",
    "            print(\"Error\")\n",
    "        break"
   ]
  }
 ],
 "metadata": {
  "kernelspec": {
   "display_name": "Python 3",
   "language": "python",
   "name": "python3"
  },
  "language_info": {
   "codemirror_mode": {
    "name": "ipython",
    "version": 3
   },
   "file_extension": ".py",
   "mimetype": "text/x-python",
   "name": "python",
   "nbconvert_exporter": "python",
   "pygments_lexer": "ipython3",
   "version": "3.6.2"
  }
 },
 "nbformat": 4,
 "nbformat_minor": 2
}
